{
 "cells": [
  {
   "cell_type": "markdown",
   "id": "located-horse",
   "metadata": {},
   "source": [
    "B站：同济子豪兄（https://space.bilibili.com/1900783）\n",
    "\n",
    "微信公众号：人工智能小技巧\n",
    "\n",
    "张子豪 2021-07-12"
   ]
  },
  {
   "cell_type": "markdown",
   "id": "worth-flight",
   "metadata": {},
   "source": [
    "# 导入工具包"
   ]
  },
  {
   "cell_type": "code",
   "execution_count": 1,
   "id": "saved-yahoo",
   "metadata": {},
   "outputs": [],
   "source": [
    "# opencv-python\n",
    "import cv2\n",
    "\n",
    "# mediapipe人工智能工具包\n",
    "import mediapipe as mp\n",
    "\n",
    "# 进度条库\n",
    "from tqdm import tqdm\n",
    "\n",
    "# 时间库\n",
    "import time\n",
    "\n",
    "# 导入python绘图matplotlib\n",
    "import matplotlib.pyplot as plt\n",
    "# 使用ipython的魔法方法，将绘制出的图像直接嵌入在notebook单元格中\n",
    "%matplotlib inline"
   ]
  },
  {
   "cell_type": "code",
   "execution_count": 2,
   "id": "hollow-newark",
   "metadata": {},
   "outputs": [],
   "source": [
    "# 定义可视化图像函数\n",
    "def look_img(img):\n",
    "    '''opencv读入图像格式为BGR，matplotlib可视化格式为RGB，因此需将BGR转RGB'''\n",
    "    img_RGB = cv2.cvtColor(img, cv2.COLOR_BGR2RGB)\n",
    "    plt.imshow(img_RGB)\n",
    "    plt.show()"
   ]
  },
  {
   "cell_type": "markdown",
   "id": "protecting-gender",
   "metadata": {},
   "source": [
    "# 导入模型"
   ]
  },
  {
   "cell_type": "code",
   "execution_count": 3,
   "id": "sweet-surfing",
   "metadata": {},
   "outputs": [
    {
     "name": "stderr",
     "output_type": "stream",
     "text": [
      "INFO: Created TensorFlow Lite XNNPACK delegate for CPU.\n"
     ]
    }
   ],
   "source": [
    "# 导入solution\n",
    "mp_pose = mp.solutions.pose\n",
    "\n",
    "# # 导入绘图函数\n",
    "mp_drawing = mp.solutions.drawing_utils \n",
    "\n",
    "# 导入模型\n",
    "pose = mp_pose.Pose(static_image_mode=True,        # 是静态图片还是连续视频帧\n",
    "                    model_complexity=2,            # 选择人体姿态关键点检测模型，0性能差但快，2性能好但慢，1介于两者之间\n",
    "                    smooth_landmarks=True,         # 是否平滑关键点\n",
    "                    enable_segmentation=True,      # 是否人体抠图\n",
    "                    min_detection_confidence=0.5,  # 置信度阈值\n",
    "                    min_tracking_confidence=0.5)   # 追踪阈值"
   ]
  },
  {
   "cell_type": "markdown",
   "id": "promotional-roller",
   "metadata": {},
   "source": [
    "# 读入图像，输入模型，获取预测结果"
   ]
  },
  {
   "cell_type": "code",
   "execution_count": 4,
   "id": "hungry-comfort",
   "metadata": {},
   "outputs": [],
   "source": [
    "# 从图片文件读入图像，opencv读入为BGR格式\n",
    "img = cv2.imread('person1.jfif')\n",
    "# img = cv2.imread('test.jpg')\n",
    "\n",
    "# BGR转RGB\n",
    "img_RGB = cv2.cvtColor(img, cv2.COLOR_BGR2RGB)\n",
    "\n",
    "# 将RGB图像输入模型，获取预测结果\n",
    "results = pose.process(img_RGB)"
   ]
  },
  {
   "cell_type": "code",
   "execution_count": 5,
   "id": "understanding-genesis",
   "metadata": {},
   "outputs": [
    {
     "data": {
      "text/plain": [
       "mediapipe.python.solution_base.SolutionOutputs"
      ]
     },
     "execution_count": 5,
     "metadata": {},
     "output_type": "execute_result"
    }
   ],
   "source": [
    "results"
   ]
  },
  {
   "cell_type": "markdown",
   "id": "crude-alarm",
   "metadata": {},
   "source": [
    "# 人体抠图结果"
   ]
  },
  {
   "cell_type": "code",
   "execution_count": 6,
   "id": "provincial-fossil",
   "metadata": {},
   "outputs": [],
   "source": [
    "mask = results.segmentation_mask"
   ]
  },
  {
   "cell_type": "code",
   "execution_count": 7,
   "id": "opposed-velvet",
   "metadata": {},
   "outputs": [
    {
     "data": {
      "text/plain": [
       "(1001, 666)"
      ]
     },
     "execution_count": 7,
     "metadata": {},
     "output_type": "execute_result"
    }
   ],
   "source": [
    "mask.shape"
   ]
  },
  {
   "cell_type": "code",
   "execution_count": 8,
   "id": "virgin-incidence",
   "metadata": {},
   "outputs": [
    {
     "data": {
      "text/plain": [
       "(1001, 666, 3)"
      ]
     },
     "execution_count": 8,
     "metadata": {},
     "output_type": "execute_result"
    }
   ],
   "source": [
    "img.shape"
   ]
  },
  {
   "cell_type": "code",
   "execution_count": 9,
   "id": "executed-vault",
   "metadata": {},
   "outputs": [
    {
     "data": {
      "text/plain": [
       "array([[0.0000000e+00, 0.0000000e+00, 0.0000000e+00, ..., 1.8170238e-25,\n",
       "        1.2106541e-25, 7.1394585e-27],\n",
       "       [0.0000000e+00, 0.0000000e+00, 0.0000000e+00, ..., 5.1494095e-23,\n",
       "        8.2965682e-23, 1.0568105e-22],\n",
       "       [0.0000000e+00, 0.0000000e+00, 0.0000000e+00, ..., 1.3899166e-22,\n",
       "        1.7503393e-22, 2.0881524e-22],\n",
       "       ...,\n",
       "       [1.9092984e-23, 7.7553941e-24, 6.2408317e-24, ..., 5.9498639e-08,\n",
       "        5.4975626e-08, 5.0438434e-08],\n",
       "       [2.1402648e-23, 8.2231168e-24, 6.7100611e-24, ..., 5.8037308e-08,\n",
       "        5.3231027e-08, 4.9218553e-08],\n",
       "       [2.5986905e-23, 8.4732970e-24, 6.9667643e-24, ..., 5.7052251e-08,\n",
       "        5.1948991e-08, 4.7058109e-08]], dtype=float32)"
      ]
     },
     "execution_count": 9,
     "metadata": {},
     "output_type": "execute_result"
    }
   ],
   "source": [
    "mask"
   ]
  },
  {
   "cell_type": "code",
   "execution_count": 10,
   "id": "wired-mapping",
   "metadata": {},
   "outputs": [],
   "source": [
    "mask = mask > 0.5"
   ]
  },
  {
   "cell_type": "code",
   "execution_count": 11,
   "id": "injured-crawford",
   "metadata": {},
   "outputs": [
    {
     "data": {
      "image/png": "[encoded data removed]",
      "text/plain": [
       "<Figure size 640x480 with 1 Axes>"
      ]
     },
     "metadata": {},
     "output_type": "display_data"
    }
   ],
   "source": [
    "plt.imshow(mask)\n",
    "plt.show()"
   ]
  },
  {
   "cell_type": "code",
   "execution_count": 12,
   "id": "demanding-release",
   "metadata": {},
   "outputs": [],
   "source": [
    "import numpy as np\n",
    "\n",
    "# 单通道转三通道\n",
    "mask_3 = np.stack((mask,mask,mask), axis=-1)\n",
    "\n",
    "MASK_COLOR = [0,200,0]\n",
    "fg_image = np.zeros(img.shape, dtype=np.uint8)\n",
    "fg_image[:] = MASK_COLOR\n",
    "\n",
    "# 获得前景人像\n",
    "FG_img = np.where(mask_3, img, fg_image)\n",
    "\n",
    "# 获得抠掉前景人像的背景\n",
    "BG_img = np.where(~mask_3, img, fg_image)"
   ]
  },
  {
   "cell_type": "code",
   "execution_count": 13,
   "id": "colonial-chambers",
   "metadata": {},
   "outputs": [
    {
     "data": {
      "image/png": "[encoded data removed]",
      "text/plain": [
       "<Figure size 640x480 with 1 Axes>"
      ]
     },
     "metadata": {},
     "output_type": "display_data"
    }
   ],
   "source": [
    "look_img(FG_img)"
   ]
  },
  {
   "cell_type": "code",
   "execution_count": 14,
   "id": "general-battery",
   "metadata": {},
   "outputs": [
    {
     "data": {
      "image/png": "[encoded data removed]",
      "text/plain": [
       "<Figure size 640x480 with 1 Axes>"
      ]
     },
     "metadata": {},
     "output_type": "display_data"
    }
   ],
   "source": [
    "look_img(BG_img)"
   ]
  },
  {
   "cell_type": "markdown",
   "id": "molecular-tactics",
   "metadata": {},
   "source": [
    "# 所有关键点检测结果"
   ]
  },
  {
   "cell_type": "code",
   "execution_count": 15,
   "id": "relevant-friendly",
   "metadata": {
    "scrolled": true
   },
   "outputs": [
    {
     "data": {
      "text/plain": [
       "landmark {\n",
       "  x: 0.4239804744720459\n",
       "  y: 0.28258559107780457\n",
       "  z: -0.5894399285316467\n",
       "  visibility: 1.0\n",
       "}\n",
       "landmark {\n",
       "  x: 0.43429234623908997\n",
       "  y: 0.263249009847641\n",
       "  z: -0.5538243651390076\n",
       "  visibility: 0.9999998807907104\n",
       "}\n",
       "landmark {\n",
       "  x: 0.4460335969924927\n",
       "  y: 0.2620030641555786\n",
       "  z: -0.5545158982276917\n",
       "  visibility: 0.9999998807907104\n",
       "}\n",
       "landmark {\n",
       "  x: 0.45675334334373474\n",
       "  y: 0.2608506977558136\n",
       "  z: -0.5542401671409607\n",
       "  visibility: 0.9999998807907104\n",
       "}\n",
       "landmark {\n",
       "  x: 0.40255653858184814\n",
       "  y: 0.2659810185432434\n",
       "  z: -0.5339179635047913\n",
       "  visibility: 0.9999998807907104\n",
       "}\n",
       "landmark {\n",
       "  x: 0.39155712723731995\n",
       "  y: 0.26678240299224854\n",
       "  z: -0.5345150232315063\n",
       "  visibility: 0.9999998807907104\n",
       "}\n",
       "landmark {\n",
       "  x: 0.3818170428276062\n",
       "  y: 0.2675730884075165\n",
       "  z: -0.534693717956543\n",
       "  visibility: 0.9999998807907104\n",
       "}\n",
       "landmark {\n",
       "  x: 0.4678543210029602\n",
       "  y: 0.26774322986602783\n",
       "  z: -0.3559192717075348\n",
       "  visibility: 0.9999998807907104\n",
       "}\n",
       "landmark {\n",
       "  x: 0.3650781512260437\n",
       "  y: 0.2753710150718689\n",
       "  z: -0.26109468936920166\n",
       "  visibility: 0.9999995231628418\n",
       "}\n",
       "landmark {\n",
       "  x: 0.44591251015663147\n",
       "  y: 0.2970027029514313\n",
       "  z: -0.5110528469085693\n",
       "  visibility: 0.9999995231628418\n",
       "}\n",
       "landmark {\n",
       "  x: 0.4067886769771576\n",
       "  y: 0.2989092469215393\n",
       "  z: -0.4888856112957001\n",
       "  visibility: 0.9999990463256836\n",
       "}\n",
       "landmark {\n",
       "  x: 0.512410044670105\n",
       "  y: 0.35997554659843445\n",
       "  z: -0.3648044168949127\n",
       "  visibility: 0.9999978542327881\n",
       "}\n",
       "landmark {\n",
       "  x: 0.34044307470321655\n",
       "  y: 0.3832184672355652\n",
       "  z: 0.04529206454753876\n",
       "  visibility: 0.9998618364334106\n",
       "}\n",
       "landmark {\n",
       "  x: 0.617671549320221\n",
       "  y: 0.4680739939212799\n",
       "  z: -0.4287906587123871\n",
       "  visibility: 0.9972609281539917\n",
       "}\n",
       "landmark {\n",
       "  x: 0.24869629740715027\n",
       "  y: 0.4758427143096924\n",
       "  z: 0.06646859645843506\n",
       "  visibility: 0.6968192458152771\n",
       "}\n",
       "landmark {\n",
       "  x: 0.704048752784729\n",
       "  y: 0.5649476051330566\n",
       "  z: -0.6076368689537048\n",
       "  visibility: 0.9977806210517883\n",
       "}\n",
       "landmark {\n",
       "  x: 0.15319541096687317\n",
       "  y: 0.39887961745262146\n",
       "  z: -0.11682182550430298\n",
       "  visibility: 0.9577367901802063\n",
       "}\n",
       "landmark {\n",
       "  x: 0.7384070754051208\n",
       "  y: 0.5924217104911804\n",
       "  z: -0.6609762907028198\n",
       "  visibility: 0.9956443309783936\n",
       "}\n",
       "landmark {\n",
       "  x: 0.1291118562221527\n",
       "  y: 0.3710521459579468\n",
       "  z: -0.15380926430225372\n",
       "  visibility: 0.9551456570625305\n",
       "}\n",
       "landmark {\n",
       "  x: 0.7162076830863953\n",
       "  y: 0.5954472422599792\n",
       "  z: -0.7098196148872375\n",
       "  visibility: 0.9957767128944397\n",
       "}\n",
       "landmark {\n",
       "  x: 0.12553587555885315\n",
       "  y: 0.360571950674057\n",
       "  z: -0.18502305448055267\n",
       "  visibility: 0.9553563594818115\n",
       "}\n",
       "landmark {\n",
       "  x: 0.6947504878044128\n",
       "  y: 0.5905647277832031\n",
       "  z: -0.6271748542785645\n",
       "  visibility: 0.9934592247009277\n",
       "}\n",
       "landmark {\n",
       "  x: 0.13918915390968323\n",
       "  y: 0.36886245012283325\n",
       "  z: -0.1408921182155609\n",
       "  visibility: 0.9485712051391602\n",
       "}\n",
       "landmark {\n",
       "  x: 0.5255922675132751\n",
       "  y: 0.5860971212387085\n",
       "  z: -0.16575098037719727\n",
       "  visibility: 0.999936580657959\n",
       "}\n",
       "landmark {\n",
       "  x: 0.40473270416259766\n",
       "  y: 0.593331515789032\n",
       "  z: 0.16523143649101257\n",
       "  visibility: 0.999782145023346\n",
       "}\n",
       "landmark {\n",
       "  x: 0.6697213649749756\n",
       "  y: 0.7408427000045776\n",
       "  z: -0.3960786759853363\n",
       "  visibility: 0.9986384510993958\n",
       "}\n",
       "landmark {\n",
       "  x: 0.23934686183929443\n",
       "  y: 0.6982623338699341\n",
       "  z: 0.13091103732585907\n",
       "  visibility: 0.9299877882003784\n",
       "}\n",
       "landmark {\n",
       "  x: 0.9283735156059265\n",
       "  y: 0.880888819694519\n",
       "  z: -0.5167655348777771\n",
       "  visibility: 0.9988613128662109\n",
       "}\n",
       "landmark {\n",
       "  x: 0.3283684253692627\n",
       "  y: 0.8335410356521606\n",
       "  z: 0.40522027015686035\n",
       "  visibility: 0.962459921836853\n",
       "}\n",
       "landmark {\n",
       "  x: 0.9743362069129944\n",
       "  y: 0.902396559715271\n",
       "  z: -0.5443716645240784\n",
       "  visibility: 0.987619161605835\n",
       "}\n",
       "landmark {\n",
       "  x: 0.36577415466308594\n",
       "  y: 0.8592466711997986\n",
       "  z: 0.42652544379234314\n",
       "  visibility: 0.9557726383209229\n",
       "}\n",
       "landmark {\n",
       "  x: 0.8431066274642944\n",
       "  y: 0.9290692806243896\n",
       "  z: -0.8366910815238953\n",
       "  visibility: 0.9986742734909058\n",
       "}\n",
       "landmark {\n",
       "  x: 0.23055902123451233\n",
       "  y: 0.8824621438980103\n",
       "  z: 0.32292070984840393\n",
       "  visibility: 0.9757153391838074\n",
       "}"
      ]
     },
     "execution_count": 15,
     "metadata": {},
     "output_type": "execute_result"
    }
   ],
   "source": [
    "results.pose_landmarks"
   ]
  },
  {
   "cell_type": "code",
   "execution_count": 16,
   "id": "radio-trademark",
   "metadata": {},
   "outputs": [
    {
     "data": {
      "text/plain": [
       "frozenset({(0, 1),\n",
       "           (0, 4),\n",
       "           (1, 2),\n",
       "           (2, 3),\n",
       "           (3, 7),\n",
       "           (4, 5),\n",
       "           (5, 6),\n",
       "           (6, 8),\n",
       "           (9, 10),\n",
       "           (11, 12),\n",
       "           (11, 13),\n",
       "           (11, 23),\n",
       "           (12, 14),\n",
       "           (12, 24),\n",
       "           (13, 15),\n",
       "           (14, 16),\n",
       "           (15, 17),\n",
       "           (15, 19),\n",
       "           (15, 21),\n",
       "           (16, 18),\n",
       "           (16, 20),\n",
       "           (16, 22),\n",
       "           (17, 19),\n",
       "           (18, 20),\n",
       "           (23, 24),\n",
       "           (23, 25),\n",
       "           (24, 26),\n",
       "           (25, 27),\n",
       "           (26, 28),\n",
       "           (27, 29),\n",
       "           (27, 31),\n",
       "           (28, 30),\n",
       "           (28, 32),\n",
       "           (29, 31),\n",
       "           (30, 32)})"
      ]
     },
     "execution_count": 16,
     "metadata": {},
     "output_type": "execute_result"
    }
   ],
   "source": [
    "mp_pose.POSE_CONNECTIONS"
   ]
  },
  {
   "cell_type": "code",
   "execution_count": 17,
   "id": "regional-cardiff",
   "metadata": {},
   "outputs": [
    {
     "data": {
      "text/plain": [
       "x: 0.617671549320221\n",
       "y: 0.4680739939212799\n",
       "z: -0.4287906587123871\n",
       "visibility: 0.9972609281539917"
      ]
     },
     "execution_count": 17,
     "metadata": {},
     "output_type": "execute_result"
    }
   ],
   "source": [
    "# 左胳膊肘关键点的归一化坐标\n",
    "results.pose_landmarks.landmark[mp_pose.PoseLandmark.LEFT_ELBOW]"
   ]
  },
  {
   "cell_type": "code",
   "execution_count": 18,
   "id": "passive-humidity",
   "metadata": {},
   "outputs": [
    {
     "data": {
      "text/plain": [
       "x: 0.617671549320221\n",
       "y: 0.4680739939212799\n",
       "z: -0.4287906587123871\n",
       "visibility: 0.9972609281539917"
      ]
     },
     "execution_count": 18,
     "metadata": {},
     "output_type": "execute_result"
    }
   ],
   "source": [
    "# 左胳膊肘关键点的归一化坐标\n",
    "results.pose_landmarks.landmark[13]"
   ]
  },
  {
   "cell_type": "code",
   "execution_count": 19,
   "id": "judicial-yeast",
   "metadata": {},
   "outputs": [
    {
     "data": {
      "text/plain": [
       "0.617671549320221"
      ]
     },
     "execution_count": 19,
     "metadata": {},
     "output_type": "execute_result"
    }
   ],
   "source": [
    "# 左胳膊肘关键点的归一化坐标\n",
    "results.pose_landmarks.landmark[13].x"
   ]
  },
  {
   "cell_type": "markdown",
   "id": "built-clarity",
   "metadata": {},
   "source": [
    "# 解析指定关键点的像素坐标"
   ]
  },
  {
   "cell_type": "code",
   "execution_count": 20,
   "id": "registered-second",
   "metadata": {},
   "outputs": [
    {
     "data": {
      "text/plain": [
       "(1001, 666, 3)"
      ]
     },
     "execution_count": 20,
     "metadata": {},
     "output_type": "execute_result"
    }
   ],
   "source": [
    "img.shape"
   ]
  },
  {
   "cell_type": "code",
   "execution_count": 21,
   "id": "animal-solomon",
   "metadata": {},
   "outputs": [],
   "source": [
    "h = img.shape[0]\n",
    "w = img.shape[1]"
   ]
  },
  {
   "cell_type": "code",
   "execution_count": 22,
   "id": "apparent-nomination",
   "metadata": {},
   "outputs": [
    {
     "data": {
      "text/plain": [
       "411.36925184726715"
      ]
     },
     "execution_count": 22,
     "metadata": {},
     "output_type": "execute_result"
    }
   ],
   "source": [
    "# 左胳膊肘关键点像素横坐标\n",
    "results.pose_landmarks.landmark[mp_pose.PoseLandmark.LEFT_ELBOW].x * w"
   ]
  },
  {
   "cell_type": "code",
   "execution_count": 23,
   "id": "aggregate-korean",
   "metadata": {},
   "outputs": [
    {
     "data": {
      "text/plain": [
       "468.5420679152012"
      ]
     },
     "execution_count": 23,
     "metadata": {},
     "output_type": "execute_result"
    }
   ],
   "source": [
    "# 左胳膊肘关键点像素纵坐标\n",
    "results.pose_landmarks.landmark[mp_pose.PoseLandmark.LEFT_ELBOW].y * h"
   ]
  },
  {
   "cell_type": "markdown",
   "id": "duplicate-deficit",
   "metadata": {},
   "source": [
    "# 解析指定关键点的真实物理（米）坐标"
   ]
  },
  {
   "cell_type": "code",
   "execution_count": 24,
   "id": "imperial-israel",
   "metadata": {},
   "outputs": [
    {
     "data": {
      "text/plain": [
       "x: -0.06997522711753845\n",
       "y: -0.5853405594825745\n",
       "z: -0.3429843485355377\n",
       "visibility: 1.0"
      ]
     },
     "execution_count": 24,
     "metadata": {},
     "output_type": "execute_result"
    }
   ],
   "source": [
    "results.pose_world_landmarks.landmark[mp_pose.PoseLandmark.NOSE]"
   ]
  },
  {
   "cell_type": "code",
   "execution_count": 25,
   "id": "mysterious-research",
   "metadata": {},
   "outputs": [
    {
     "data": {
      "text/plain": [
       "x: 0.07959286123514175\n",
       "y: -0.0011223694309592247\n",
       "z: -0.04456049203872681\n",
       "visibility: 0.999936580657959"
      ]
     },
     "execution_count": 25,
     "metadata": {},
     "output_type": "execute_result"
    }
   ],
   "source": [
    "results.pose_world_landmarks.landmark[23]"
   ]
  },
  {
   "cell_type": "markdown",
   "id": "impressed-thesis",
   "metadata": {},
   "source": [
    "真实物理坐标的原点位于左右髋关节连线的中点（肚脐附近），详见论文。"
   ]
  },
  {
   "cell_type": "markdown",
   "id": "light-beijing",
   "metadata": {},
   "source": [
    "# 交互式三维可视化"
   ]
  },
  {
   "cell_type": "code",
   "execution_count": 26,
   "id": "chemical-working",
   "metadata": {},
   "outputs": [],
   "source": [
    "import numpy as np"
   ]
  },
  {
   "cell_type": "code",
   "execution_count": 27,
   "id": "toxic-condition",
   "metadata": {},
   "outputs": [],
   "source": [
    "coords = np.array(results.pose_landmarks.landmark)"
   ]
  },
  {
   "cell_type": "code",
   "execution_count": 28,
   "id": "major-marina",
   "metadata": {},
   "outputs": [
    {
     "data": {
      "text/plain": [
       "array([x: 0.4239804744720459\n",
       "       y: 0.28258559107780457\n",
       "       z: -0.5894399285316467\n",
       "       visibility: 1.0       , x: 0.43429234623908997\n",
       "                               y: 0.263249009847641\n",
       "                               z: -0.5538243651390076\n",
       "                               visibility: 0.9999998807907104,\n",
       "       x: 0.4460335969924927\n",
       "       y: 0.2620030641555786\n",
       "       z: -0.5545158982276917\n",
       "       visibility: 0.9999998807907104, x: 0.45675334334373474\n",
       "                                       y: 0.2608506977558136\n",
       "                                       z: -0.5542401671409607\n",
       "                                       visibility: 0.9999998807907104,\n",
       "       x: 0.40255653858184814\n",
       "       y: 0.2659810185432434\n",
       "       z: -0.5339179635047913\n",
       "       visibility: 0.9999998807907104, x: 0.39155712723731995\n",
       "                                       y: 0.26678240299224854\n",
       "                                       z: -0.5345150232315063\n",
       "                                       visibility: 0.9999998807907104,\n",
       "       x: 0.3818170428276062\n",
       "       y: 0.2675730884075165\n",
       "       z: -0.534693717956543\n",
       "       visibility: 0.9999998807907104, x: 0.4678543210029602\n",
       "                                       y: 0.26774322986602783\n",
       "                                       z: -0.3559192717075348\n",
       "                                       visibility: 0.9999998807907104,\n",
       "       x: 0.3650781512260437\n",
       "       y: 0.2753710150718689\n",
       "       z: -0.26109468936920166\n",
       "       visibility: 0.9999995231628418, x: 0.44591251015663147\n",
       "                                       y: 0.2970027029514313\n",
       "                                       z: -0.5110528469085693\n",
       "                                       visibility: 0.9999995231628418,\n",
       "       x: 0.4067886769771576\n",
       "       y: 0.2989092469215393\n",
       "       z: -0.4888856112957001\n",
       "       visibility: 0.9999990463256836, x: 0.512410044670105\n",
       "                                       y: 0.35997554659843445\n",
       "                                       z: -0.3648044168949127\n",
       "                                       visibility: 0.9999978542327881,\n",
       "       x: 0.34044307470321655\n",
       "       y: 0.3832184672355652\n",
       "       z: 0.04529206454753876\n",
       "       visibility: 0.9998618364334106, x: 0.617671549320221\n",
       "                                       y: 0.4680739939212799\n",
       "                                       z: -0.4287906587123871\n",
       "                                       visibility: 0.9972609281539917,\n",
       "       x: 0.24869629740715027\n",
       "       y: 0.4758427143096924\n",
       "       z: 0.06646859645843506\n",
       "       visibility: 0.6968192458152771, x: 0.704048752784729\n",
       "                                       y: 0.5649476051330566\n",
       "                                       z: -0.6076368689537048\n",
       "                                       visibility: 0.9977806210517883,\n",
       "       x: 0.15319541096687317\n",
       "       y: 0.39887961745262146\n",
       "       z: -0.11682182550430298\n",
       "       visibility: 0.9577367901802063, x: 0.7384070754051208\n",
       "                                       y: 0.5924217104911804\n",
       "                                       z: -0.6609762907028198\n",
       "                                       visibility: 0.9956443309783936,\n",
       "       x: 0.1291118562221527\n",
       "       y: 0.3710521459579468\n",
       "       z: -0.15380926430225372\n",
       "       visibility: 0.9551456570625305, x: 0.7162076830863953\n",
       "                                       y: 0.5954472422599792\n",
       "                                       z: -0.7098196148872375\n",
       "                                       visibility: 0.9957767128944397,\n",
       "       x: 0.12553587555885315\n",
       "       y: 0.360571950674057\n",
       "       z: -0.18502305448055267\n",
       "       visibility: 0.9553563594818115, x: 0.6947504878044128\n",
       "                                       y: 0.5905647277832031\n",
       "                                       z: -0.6271748542785645\n",
       "                                       visibility: 0.9934592247009277,\n",
       "       x: 0.13918915390968323\n",
       "       y: 0.36886245012283325\n",
       "       z: -0.1408921182155609\n",
       "       visibility: 0.9485712051391602, x: 0.5255922675132751\n",
       "                                       y: 0.5860971212387085\n",
       "                                       z: -0.16575098037719727\n",
       "                                       visibility: 0.999936580657959,\n",
       "       x: 0.40473270416259766\n",
       "       y: 0.593331515789032\n",
       "       z: 0.16523143649101257\n",
       "       visibility: 0.999782145023346, x: 0.6697213649749756\n",
       "                                      y: 0.7408427000045776\n",
       "                                      z: -0.3960786759853363\n",
       "                                      visibility: 0.9986384510993958,\n",
       "       x: 0.23934686183929443\n",
       "       y: 0.6982623338699341\n",
       "       z: 0.13091103732585907\n",
       "       visibility: 0.9299877882003784, x: 0.9283735156059265\n",
       "                                       y: 0.880888819694519\n",
       "                                       z: -0.5167655348777771\n",
       "                                       visibility: 0.9988613128662109,\n",
       "       x: 0.3283684253692627\n",
       "       y: 0.8335410356521606\n",
       "       z: 0.40522027015686035\n",
       "       visibility: 0.962459921836853, x: 0.9743362069129944\n",
       "                                      y: 0.902396559715271\n",
       "                                      z: -0.5443716645240784\n",
       "                                      visibility: 0.987619161605835,\n",
       "       x: 0.36577415466308594\n",
       "       y: 0.8592466711997986\n",
       "       z: 0.42652544379234314\n",
       "       visibility: 0.9557726383209229, x: 0.8431066274642944\n",
       "                                       y: 0.9290692806243896\n",
       "                                       z: -0.8366910815238953\n",
       "                                       visibility: 0.9986742734909058,\n",
       "       x: 0.23055902123451233\n",
       "       y: 0.8824621438980103\n",
       "       z: 0.32292070984840393\n",
       "       visibility: 0.9757153391838074], dtype=object)"
      ]
     },
     "execution_count": 28,
     "metadata": {},
     "output_type": "execute_result"
    }
   ],
   "source": [
    "coords"
   ]
  },
  {
   "cell_type": "code",
   "execution_count": 29,
   "id": "rational-gravity",
   "metadata": {},
   "outputs": [
    {
     "data": {
      "text/plain": [
       "33"
      ]
     },
     "execution_count": 29,
     "metadata": {},
     "output_type": "execute_result"
    }
   ],
   "source": [
    "len(coords)"
   ]
  },
  {
   "cell_type": "code",
   "execution_count": 30,
   "id": "alpha-gibson",
   "metadata": {},
   "outputs": [
    {
     "data": {
      "text/plain": [
       "0.4239804744720459"
      ]
     },
     "execution_count": 30,
     "metadata": {},
     "output_type": "execute_result"
    }
   ],
   "source": [
    "coords[0].x"
   ]
  },
  {
   "cell_type": "code",
   "execution_count": 31,
   "id": "decent-grammar",
   "metadata": {},
   "outputs": [],
   "source": [
    "# 在不用耗时循环的条件下，汇总所有点的XYZ坐标\n",
    "\n",
    "def get_x(each):\n",
    "    return each.x\n",
    "def get_y(each):\n",
    "    return each.y\n",
    "def get_z(each):\n",
    "    return each.z\n",
    "\n",
    "# 分别获取所有关键点的XYZ坐标\n",
    "points_x = np.array(list(map(get_x, coords)))\n",
    "points_y = np.array(list(map(get_y, coords)))\n",
    "points_z = np.array(list(map(get_z, coords)))\n",
    "\n",
    "# 将三个方向的坐标合并\n",
    "points = np.vstack((points_x, points_y, points_z)).T"
   ]
  },
  {
   "cell_type": "code",
   "execution_count": 32,
   "id": "continuous-starter",
   "metadata": {},
   "outputs": [
    {
     "data": {
      "text/plain": [
       "(33, 3)"
      ]
     },
     "execution_count": 32,
     "metadata": {},
     "output_type": "execute_result"
    }
   ],
   "source": [
    "points.shape"
   ]
  },
  {
   "cell_type": "code",
   "execution_count": 33,
   "id": "incoming-trade",
   "metadata": {},
   "outputs": [
    {
     "data": {
      "text/plain": [
       "array([[ 0.42398047,  0.28258559, -0.58943993],\n",
       "       [ 0.43429235,  0.26324901, -0.55382437],\n",
       "       [ 0.4460336 ,  0.26200306, -0.5545159 ],\n",
       "       [ 0.45675334,  0.2608507 , -0.55424017],\n",
       "       [ 0.40255654,  0.26598102, -0.53391796],\n",
       "       [ 0.39155713,  0.2667824 , -0.53451502],\n",
       "       [ 0.38181704,  0.26757309, -0.53469372],\n",
       "       [ 0.46785432,  0.26774323, -0.35591927],\n",
       "       [ 0.36507815,  0.27537102, -0.26109469],\n",
       "       [ 0.44591251,  0.2970027 , -0.51105285],\n",
       "       [ 0.40678868,  0.29890925, -0.48888561],\n",
       "       [ 0.51241004,  0.35997555, -0.36480442],\n",
       "       [ 0.34044307,  0.38321847,  0.04529206],\n",
       "       [ 0.61767155,  0.46807399, -0.42879066],\n",
       "       [ 0.2486963 ,  0.47584271,  0.0664686 ],\n",
       "       [ 0.70404875,  0.56494761, -0.60763687],\n",
       "       [ 0.15319541,  0.39887962, -0.11682183],\n",
       "       [ 0.73840708,  0.59242171, -0.66097629],\n",
       "       [ 0.12911186,  0.37105215, -0.15380926],\n",
       "       [ 0.71620768,  0.59544724, -0.70981961],\n",
       "       [ 0.12553588,  0.36057195, -0.18502305],\n",
       "       [ 0.69475049,  0.59056473, -0.62717485],\n",
       "       [ 0.13918915,  0.36886245, -0.14089212],\n",
       "       [ 0.52559227,  0.58609712, -0.16575098],\n",
       "       [ 0.4047327 ,  0.59333152,  0.16523144],\n",
       "       [ 0.66972136,  0.7408427 , -0.39607868],\n",
       "       [ 0.23934686,  0.69826233,  0.13091104],\n",
       "       [ 0.92837352,  0.88088882, -0.51676553],\n",
       "       [ 0.32836843,  0.83354104,  0.40522027],\n",
       "       [ 0.97433621,  0.90239656, -0.54437166],\n",
       "       [ 0.36577415,  0.85924667,  0.42652544],\n",
       "       [ 0.84310663,  0.92906928, -0.83669108],\n",
       "       [ 0.23055902,  0.88246214,  0.32292071]])"
      ]
     },
     "execution_count": 33,
     "metadata": {},
     "output_type": "execute_result"
    }
   ],
   "source": [
    "points"
   ]
  },
  {
   "cell_type": "code",
   "execution_count": 39,
   "id": "animal-dividend",
   "metadata": {},
   "outputs": [],
   "source": [
    "import open3d\n",
    "point_cloud = open3d.geometry.PointCloud()\n",
    "point_cloud.points = open3d.utility.Vector3dVector(points)\n",
    "open3d.visualization.draw_geometries([point_cloud])"
   ]
  },
  {
   "cell_type": "code",
   "execution_count": null,
   "id": "thirty-sauce",
   "metadata": {},
   "outputs": [],
   "source": []
  },
  {
   "cell_type": "code",
   "execution_count": null,
   "id": "outstanding-interval",
   "metadata": {},
   "outputs": [],
   "source": []
  }
 ],
 "metadata": {
  "kernelspec": {
   "display_name": "Python 3 (ipykernel)",
   "language": "python",
   "name": "python3"
  },
  "language_info": {
   "codemirror_mode": {
    "name": "ipython",
    "version": 3
   },
   "file_extension": ".py",
   "mimetype": "text/x-python",
   "name": "python",
   "nbconvert_exporter": "python",
   "pygments_lexer": "ipython3",
   "version": "3.9.13"
  }
 },
 "nbformat": 4,
 "nbformat_minor": 5
}
